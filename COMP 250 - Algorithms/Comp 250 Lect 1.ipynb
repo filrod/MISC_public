{
 "cells": [
  {
   "cell_type": "markdown",
   "metadata": {},
   "source": [
    "# COMP 250 - Lecture 1"
   ]
  },
  {
   "cell_type": "code",
   "execution_count": 1,
   "metadata": {
    "collapsed": true
   },
   "outputs": [],
   "source": [
    "import numpy as np\n",
    "import random"
   ]
  },
  {
   "cell_type": "code",
   "execution_count": 2,
   "metadata": {
    "collapsed": true
   },
   "outputs": [],
   "source": [
    "def string_multiplier(string, multiplicand):\n",
    "    \"\"\"\n",
    "    \n",
    "    Takes a passed string, procudes a total of \n",
    "    N = multiplicand times this string and\n",
    "    concatenates them all into one string with\n",
    "    no spaces.\n",
    "    \n",
    "    Parameters\n",
    "    ----------\n",
    "    String: str\n",
    "    \n",
    "        The string to be concatenated.\n",
    "        \n",
    "    multiplicand: int\n",
    "    \n",
    "        The amount of times one can find\n",
    "        the string in the concatenated \n",
    "        returned string.\n",
    "        \n",
    "    Return\n",
    "    ------\n",
    "    string_r: str\n",
    "    \n",
    "        The concatenated final string.\n",
    "    \n",
    "    \"\"\"\n",
    "    if multiplicand <0:\n",
    "        multiplicand = -multiplicand\n",
    "        \n",
    "    multiplicand = int(multiplicand)\n",
    "        \n",
    "    if multiplicand == 0:\n",
    "        return ''\n",
    "    \n",
    "    if multiplicand == 1:\n",
    "        return string\n",
    "    \n",
    "    string_r = ''\n",
    "    for i in range(multiplicand):\n",
    "        string_r += string\n",
    "        # print(string_r)\n",
    "    # print(string_r)\n",
    "    return string_r"
   ]
  },
  {
   "cell_type": "code",
   "execution_count": 3,
   "metadata": {
    "collapsed": true
   },
   "outputs": [],
   "source": [
    "def str_size_match(a, b, fill='0'):\n",
    "\n",
    "    if len(a)>len(b):\n",
    "        \n",
    "        b = string_multiplier(fill, (len(a) - len(b))) + b\n",
    "    \n",
    "    elif len(b)>len(a):\n",
    "    \n",
    "        a = string_multiplier(fill, (len(b) - len(a))) + a\n",
    "    \n",
    "    return [a, b]"
   ]
  },
  {
   "cell_type": "code",
   "execution_count": 4,
   "metadata": {
    "collapsed": true
   },
   "outputs": [],
   "source": [
    "def carry_arithmatic(a, b):\n",
    "    \n",
    "    a = str(a)\n",
    "    b = str(b)\n",
    "    \n",
    "    if a=='0':\n",
    "        return b\n",
    "    \n",
    "    elif b=='0':\n",
    "        return a\n",
    "    \n",
    "    a = str_size_match(a, b)[0]\n",
    "    b = str_size_match(a, b)[1]\n",
    "    \n",
    "    if len(a) is not len(b):\n",
    "        return 'Error'\n",
    "    \n",
    "    carry = 0    \n",
    "    N = len(a)\n",
    "    r=''\n",
    "        \n",
    "    for i in range(N):\n",
    "        \n",
    "        r = str(int((int(a[N-1-i]) + int(b[N-1-i])+ carry) % 10)) + r  # Make backwards\n",
    "        carry = (int(a[N-1-i]) + int(b[N-1-i]) + carry)/10\n",
    "    #print(r)\n",
    "    if carry is not 0:\n",
    "        r = str(int(carry)) + r\n",
    "    \n",
    "    if len(r) is 2 and r[0] is '0':\n",
    "        r = r[-1]\n",
    "        \n",
    "    i=0\n",
    "    if len(r)>2:\n",
    "        while int(r[0])==0:\n",
    "            \n",
    "            if i==len(r)-1:\n",
    "                break\n",
    "                \n",
    "            else:\n",
    "                r = r[i+1:]\n",
    "                i+=1\n",
    "            \n",
    "    return int(r)"
   ]
  },
  {
   "cell_type": "markdown",
   "metadata": {},
   "source": [
    "### Test carry_arithmatic for bugs"
   ]
  },
  {
   "cell_type": "code",
   "execution_count": 5,
   "metadata": {
    "collapsed": true
   },
   "outputs": [],
   "source": [
    "def carry_arithmatic_tester():\n",
    "\n",
    "    i_array = random.sample([item for item in np.arange(100000)], 35)\n",
    "    j_array = random.sample([item for item in np.arange(100000)], 35)\n",
    "\n",
    "    list_ = []\n",
    "    for i in range(500):\n",
    "        list_.append(np.all([int(carry_arithmatic(i, j))==i+j for i in i_array for j in j_array]))\n",
    "        \n",
    "    if np.all(list_) == True:\n",
    "        i_array = None\n",
    "        j_array = None\n",
    "        list_ = None\n",
    "        return 'good'\n",
    "    \n",
    "    elif np.all(list_) == False:\n",
    "        i_array = None\n",
    "        j_array = None\n",
    "        list_ = None\n",
    "        return 'Bad'"
   ]
  },
  {
   "cell_type": "code",
   "execution_count": 18,
   "metadata": {},
   "outputs": [
    {
     "name": "stdout",
     "output_type": "stream",
     "text": [
      "good\n",
      "good\n",
      "good\n",
      "good\n",
      "good\n",
      "good\n",
      "good\n",
      "good\n",
      "good\n",
      "good\n"
     ]
    }
   ],
   "source": [
    "for i in range(10):\n",
    "    print(carry_arithmatic_tester())"
   ]
  },
  {
   "cell_type": "markdown",
   "metadata": {},
   "source": [
    "### Test carry_arithmatic for time"
   ]
  },
  {
   "cell_type": "code",
   "execution_count": 29,
   "metadata": {
    "collapsed": true
   },
   "outputs": [],
   "source": [
    "i_array = random.sample([item for item in np.arange(100000)], 35)\n",
    "j_array = random.sample([item for item in np.arange(100000)], 35)"
   ]
  },
  {
   "cell_type": "code",
   "execution_count": 30,
   "metadata": {},
   "outputs": [
    {
     "name": "stdout",
     "output_type": "stream",
     "text": [
      "Wall time: 10.1 s\n"
     ]
    }
   ],
   "source": [
    "%%time\n",
    "for i in range(500):\n",
    "    [carry_arithmatic(i, j) for i in i_array for j in j_array]"
   ]
  },
  {
   "cell_type": "code",
   "execution_count": 31,
   "metadata": {},
   "outputs": [
    {
     "name": "stdout",
     "output_type": "stream",
     "text": [
      "Wall time: 119 ms\n"
     ]
    }
   ],
   "source": [
    "%%time\n",
    "for i in range(500):\n",
    "    [i+j for i in i_array for j in j_array]"
   ]
  },
  {
   "cell_type": "code",
   "execution_count": 33,
   "metadata": {},
   "outputs": [
    {
     "data": {
      "text/plain": [
       "'1.1782178217821782%'"
      ]
     },
     "execution_count": 33,
     "metadata": {},
     "output_type": "execute_result"
    }
   ],
   "source": [
    "str(100*(119E-3)/10.1)+\"%\""
   ]
  },
  {
   "cell_type": "markdown",
   "metadata": {},
   "source": [
    "### Done tests"
   ]
  },
  {
   "cell_type": "code",
   "execution_count": 6,
   "metadata": {
    "collapsed": true
   },
   "outputs": [],
   "source": [
    "def multiplication_algorithm(a, b):\n",
    "    \n",
    "    \"\"\"\n",
    "    A slow way to multiply.\n",
    "    \"\"\"\n",
    "    product = 0\n",
    "    \n",
    "    for i in range(b):\n",
    "        product += a\n",
    "    return product"
   ]
  },
  {
   "cell_type": "code",
   "execution_count": 6,
   "metadata": {
    "collapsed": true
   },
   "outputs": [],
   "source": [
    "def grade_school_multiplication(a, b):\n",
    "    \"\"\"\n",
    "    Unfinnished grade school multiplication.\n",
    "    \"\"\"\n",
    "    a = str(a)\n",
    "    b = str(b)\n",
    "    \n",
    "     if a=='0' or b=='0':\n",
    "        return 0\n",
    "    \n",
    "    a = str_size_match(a, b)[0]\n",
    "    b = str_size_match(a, b)[1]\n",
    "    \n",
    "    if len(a) is not len(b):\n",
    "        return 'Error'\n",
    "    \n",
    "    N = len(a)\n",
    "    \n",
    "    \n",
    "    \n",
    "    for j in range(N):\n",
    "        carry=0\n",
    "        for i in range(N):\n",
    "            prod = (a[i]*b[i]+carry)\n",
    "            tmp[j][i+j] = prod%10\n",
    "            carry = prod/10\n",
    "        \n",
    "        tmp[j][i+j] = carry"
   ]
  },
  {
   "cell_type": "code",
   "execution_count": null,
   "metadata": {
    "collapsed": true
   },
   "outputs": [],
   "source": []
  }
 ],
 "metadata": {
  "kernelspec": {
   "display_name": "Python 3",
   "language": "python",
   "name": "python3"
  },
  "language_info": {
   "codemirror_mode": {
    "name": "ipython",
    "version": 3
   },
   "file_extension": ".py",
   "mimetype": "text/x-python",
   "name": "python",
   "nbconvert_exporter": "python",
   "pygments_lexer": "ipython3",
   "version": "3.6.2"
  }
 },
 "nbformat": 4,
 "nbformat_minor": 2
}
